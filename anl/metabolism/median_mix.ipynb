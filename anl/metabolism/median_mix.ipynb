{
 "cells": [
  {
   "cell_type": "code",
   "execution_count": 1,
   "id": "9b73eb33-4a45-4872-b7ea-29d44d2387f1",
   "metadata": {},
   "outputs": [],
   "source": [
    "# new models, altough I see that media constrain prob has a huge effect on this models."
   ]
  },
  {
   "cell_type": "code",
   "execution_count": 1,
   "id": "843060b5-70f3-4cd7-b1a4-85c778773be7",
   "metadata": {},
   "outputs": [],
   "source": [
    "import cobra\n",
    "import glob\n",
    "import os\n",
    "import time\n",
    "import pandas as pd\n",
    "from cobra.flux_analysis import pfba"
   ]
  },
  {
   "cell_type": "code",
   "execution_count": null,
   "id": "f385b0db-df98-4735-a5ba-ff559e42006f",
   "metadata": {},
   "outputs": [],
   "source": []
  },
  {
   "cell_type": "code",
   "execution_count": 2,
   "id": "67b7fbaa-cb83-494c-a8c8-bdf3754ee231",
   "metadata": {},
   "outputs": [
    {
     "name": "stderr",
     "output_type": "stream",
     "text": [
      "No defined compartments in model ContextModel. Compartments will be deduced heuristically using regular expressions.\n",
      "Using regular expression found the following compartments:c, e, g, i, l, m, n, r, x\n"
     ]
    }
   ],
   "source": [
    "model = cobra.io.load_matlab_model('/home/roger/fastcormics/data/median/SampleModel_mix.mat') #71 a 74  o 161 a 164  o 251 254"
   ]
  },
  {
   "cell_type": "code",
   "execution_count": 3,
   "id": "be4cf934-b8b9-4872-b384-7c10eabc640f",
   "metadata": {},
   "outputs": [],
   "source": [
    "sol = pfba(model)"
   ]
  },
  {
   "cell_type": "code",
   "execution_count": 4,
   "id": "750df236-9ccf-4759-9580-3b9b4fddecf5",
   "metadata": {},
   "outputs": [],
   "source": [
    "def apply_constraints(model, constraints_dict):\n",
    "    new_model = model.copy()\n",
    "    for rid, (lb, ub) in constraints_dict.items():\n",
    "        rxn = new_model.reactions.get_by_id(rid)\n",
    "        rxn.lower_bound = lb\n",
    "        rxn.upper_bound = ub\n",
    "    return new_model\n",
    "\n",
    "normal_conditions = {\n",
    "    \"O2t\": (0.000558159, 0.000757101),\n",
    "    \"O2tm\": (0.000314589, 0.000413189), \n",
    "    \"ATPS4mi\": (0.000242538, 0.000312538),\n",
    "    \"EX_h[e]\": (0.00007578, 0.00008422)\n",
    "}\n",
    "\n",
    "mix_conditions = {\n",
    "    \"O2t\": (0.000740940988062504, 0.000918608719909532),\n",
    "    \"O2tm\": (0.000389772, 0.000584972),\n",
    "    \"ATPS4mi\": (0.000324995, 0.000394495),\n",
    "    \"EX_h[e]\": (0.000083, 0.000111)\n",
    "}\n"
   ]
  },
  {
   "cell_type": "code",
   "execution_count": 5,
   "id": "0ae1f0ab-5bc3-471c-a5fc-7d97303e7248",
   "metadata": {},
   "outputs": [],
   "source": [
    "media_constrains = {\n",
    "    \"EX_arg_L[e]\": (-1, 1),\n",
    "    \"EX_ca2[e]\": (-1, 1),\n",
    "    \"EX_cl[e]\": (-1, 0),\n",
    "    \"EX_co2[e]\": (-1, 1),\n",
    "    \"EX_fe3[e]\": (-1, 1),\n",
    "    \"EX_fol[e]\": (-1, 0),\n",
    "    \"EX_chol[e]\": (-1, 0),\n",
    "    \"EX_glc[e]\": (-1, 1),\n",
    "    \"EX_gln_L[e]\": (-1, 1),\n",
    "    \"EX_gly[e]\": (-1, 0),\n",
    "    \"EX_h[e]\": (-1, 1),\n",
    "    \"EX_h2o[e]\": (-1, 1),\n",
    "    \"EX_his_L[e]\": (-1, 0),\n",
    "    \"EX_inost[e]\": (-1, 1),\n",
    "    \"EX_k[e]\": (-1, 1),\n",
    "    \"EX_Lcystin[e]\": (-1, 1),\n",
    "    \"EX_leu_L[e]\": (-1, 1),\n",
    "    \"EX_lys_L[e]\": (-1, 1),\n",
    "    \"EX_na1[e]\": (-1, 0),\n",
    "    \"EX_o2[e]\": (-1, 0),\n",
    "    \"EX_oh1[e]\": (-1, 1),\n",
    "    \"EX_phe_L[e]\": (-1, 0),\n",
    "    \"EX_pi[e]\": (-1, 1),\n",
    "    \"EX_pnto_R[e]\": (-1, 1),\n",
    "    \"EX_pydx[e]\": (-1, 0),\n",
    "    \"EX_ribflv[e]\": (-1, 0),\n",
    "    \"EX_so4[e]\": (-1, 1),\n",
    "    \"EX_thr_L[e]\": (-1, 1),\n",
    "    \"EX_trp_L[e]\": (-1, 1),\n",
    "    \"EX_tyr_L[e]\": (-1, 1),\n",
    "    \"EX_val_L[e]\": (-1, 1),\n",
    "    \"EX_ncam[e]\": (-1, 1),\n",
    "    \"EX_ser_L[e]\": (-1, 1),\n",
    "    \"EX_ile_L[e]\": (-1, 1),\n",
    "    \"EX_met_L[e]\": (-1, 1),\n",
    "    \"EX_thm[e]\": (-1, 0)\n",
    "}\n",
    "\n",
    "\n",
    "def apply_media_constraints(model, media_dict):\n",
    "    new_model = model.copy()\n",
    "    for rxn_id, (lb, ub) in media_dict.items():\n",
    "        try:\n",
    "            rxn = new_model.reactions.get_by_id(rxn_id)\n",
    "            rxn.lower_bound = lb\n",
    "            rxn.upper_bound = ub\n",
    "        except KeyError:\n",
    "            pass  # skip missing reactions\n",
    "    return new_model\n",
    "\n",
    "\n",
    "# final apply constrains function\n",
    "def apply_cons(model, constrains1, constrains2):\n",
    "    print(\"First Biomass pFBA:\", pfba(model).objective_value)\n",
    "    nw_mdl = apply_constraints(model, constrains1)\n",
    "    print(\"Seahorse constrains pFBA:\", pfba(nw_mdl).objective_value)\n",
    "    fl_mdl = apply_media_constraints(nw_mdl, constrains2)\n",
    "    print(\"Media paper constrains pFBA:\", pfba(fl_mdl).objective_value)\n",
    "    return nw_mdl\n"
   ]
  },
  {
   "cell_type": "code",
   "execution_count": 6,
   "id": "41eb4fce-1ec4-41ab-9407-5810a85b9210",
   "metadata": {},
   "outputs": [
    {
     "name": "stdout",
     "output_type": "stream",
     "text": [
      "First Biomass pFBA: 32487.65389967203\n",
      "Seahorse constrains pFBA: 52.70344401433368\n",
      "Media paper constrains pFBA: 1.2322214910748601\n"
     ]
    }
   ],
   "source": [
    "pro = apply_cons(model, mix_conditions, media_constrains)"
   ]
  },
  {
   "cell_type": "code",
   "execution_count": 16,
   "id": "7cee4dcd-0e04-40d9-836e-805b033f8ab2",
   "metadata": {},
   "outputs": [
    {
     "name": "stdout",
     "output_type": "stream",
     "text": [
      "Glucose exchange flux  : -0.8450585042789298\n",
      "Lactate exchange flux : 0.6097327900660987\n",
      "Glutamine exchange flux : -0.6115645431773508\n"
     ]
    }
   ],
   "source": [
    "# after you’ve solved your model (pro.objective = …; pro.optimize())\n",
    "rxn_ids = [\"EX_glc_D[e]\", \"EX_lac_L[e]\", \"EX_gln_L[e]\"]\n",
    "fluxes = {rxn: pro.reactions.get_by_id(rxn).flux for rxn in rxn_ids}\n",
    "\n",
    "print(f\"Glucose exchange flux  : {fluxes['EX_glc_D[e]']}\")\n",
    "print(f\"Lactate exchange flux : {fluxes['EX_lac_L[e]']}\")\n",
    "print(f\"Glutamine exchange flux : {fluxes['EX_gln_L[e]']}\")\n",
    "\n"
   ]
  },
  {
   "cell_type": "code",
   "execution_count": 11,
   "id": "634ff39b-ea7b-4d9e-8bb8-0046d17c0d9b",
   "metadata": {},
   "outputs": [],
   "source": [
    "glc_flux = abs(pro.reactions.get_by_id(\"EX_glc_D[e]\").flux)"
   ]
  },
  {
   "cell_type": "code",
   "execution_count": 8,
   "id": "ac8e5a46-0e77-4b20-9600-4cff8f05a8b9",
   "metadata": {},
   "outputs": [],
   "source": [
    "# ATP production\n",
    "def summarize_met_flux(model, subsystems, met_id):\n",
    "    sol    = pfba(model)\n",
    "    fluxes = sol.fluxes.to_dict()\n",
    "    rxns = [\n",
    "        rxn for rxn in model.reactions\n",
    "        if rxn.subsystem in subsystems and abs(fluxes.get(rxn.id, 0.0)) > 1e-6\n",
    "    ]\n",
    "    met = model.metabolites.get_by_id(met_id)\n",
    "    produced = 0.0\n",
    "    consumed = 0.0\n",
    "    for rxn in rxns:\n",
    "        v     = fluxes.get(rxn.id, 0.0)\n",
    "        stoich = rxn.metabolites.get(met, 0.0)\n",
    "        if stoich == 0:\n",
    "            continue\n",
    "        delta = stoich * v\n",
    "        if delta > 0:\n",
    "            produced += delta\n",
    "        else:\n",
    "            consumed += -delta\n",
    "    net = produced - consumed\n",
    "    print(f\"Subsystems: {subsystems}\")\n",
    "    print(f\"Metabolite: {met_id}\")\n",
    "    print(f\"  Produced: {produced:.6f} mmol/gDW/h\")\n",
    "    print(f\"  Consumed: {consumed:.6f} mmol/gDW/h\")\n",
    "    print(f\"  Net:      {net:.6f} mmol/gDW/h\")\n",
    "\n",
    "    return net"
   ]
  },
  {
   "cell_type": "code",
   "execution_count": 9,
   "id": "ca3bccbe-a51b-4bec-97f0-fc0c2d8a4ec9",
   "metadata": {},
   "outputs": [
    {
     "name": "stdout",
     "output_type": "stream",
     "text": [
      "Subsystems: {'Glycolysis/gluconeogenesis'}\n",
      "Metabolite: atp[c]\n",
      "  Produced: 2.739027 mmol/gDW/h\n",
      "  Consumed: 1.662276 mmol/gDW/h\n",
      "  Net:      1.076751 mmol/gDW/h\n"
     ]
    }
   ],
   "source": [
    "atp_gly = summarize_met_flux(pro,\n",
    "                                 subsystems={'Glycolysis/gluconeogenesis'},\n",
    "                                 met_id='atp[c]')"
   ]
  },
  {
   "cell_type": "code",
   "execution_count": 12,
   "id": "74137aea-2165-48c5-b1cf-6ab5e4218ca7",
   "metadata": {},
   "outputs": [
    {
     "data": {
      "text/plain": [
       "1.2741734385230392"
      ]
     },
     "execution_count": 12,
     "metadata": {},
     "output_type": "execute_result"
    }
   ],
   "source": [
    "atp_gly / glc_flux"
   ]
  },
  {
   "cell_type": "code",
   "execution_count": null,
   "id": "00e30af7-2077-4f11-9372-447ba483cdd2",
   "metadata": {},
   "outputs": [],
   "source": []
  },
  {
   "cell_type": "code",
   "execution_count": 17,
   "id": "c93c9f8e-6f98-4904-8b36-c4c2a01d3f56",
   "metadata": {},
   "outputs": [
    {
     "name": "stdout",
     "output_type": "stream",
     "text": [
      "CSm: accoa[m] + h2o[m] + oaa[m] --> cit[m] + coa[m] + h[m]  |  Flux: 0.45532479\n",
      "FUMm: fum[m] + h2o[m] <=> mal_L[m]  |  Flux: -0.07322042\n",
      "ICDHy: icit[c] + nadp[c] --> akg[c] + co2[c] + nadph[c]  |  Flux: 0.91066121\n",
      "ICDHyrm: icit[m] + nadp[m] <=> akg[m] + co2[m] + nadph[m]  |  Flux: -0.45533642\n",
      "MDHm: mal_L[m] + nad[m] <=> h[m] + nadh[m] + oaa[m]  |  Flux: 0.45532479\n",
      "SUCD1m: fad[m] + succ[m] <=> fadh2[m] + fum[m]  |  Flux: -0.00047657\n",
      "r0509: q10[m] + succ[m] --> fum[m] + q10h2[m]  |  Flux: 0.00047657\n",
      "ACONT: cit[c] <=> icit[c]  |  Flux: 0.45532479\n",
      "FUM: fum[c] + h2o[c] <=> mal_L[c]  |  Flux: 0.07393680\n",
      "MDH: mal_L[c] + nad[c] <=> h[c] + nadh[c] + oaa[c]  |  Flux: -0.45460841\n"
     ]
    }
   ],
   "source": [
    "def react_subsystem(model, subsystem):\n",
    "    sol    = pfba(model)\n",
    "    fluxes = sol.fluxes.to_dict()\n",
    "    for rxn in model.reactions:\n",
    "        if rxn.subsystem == subsystem and abs(fluxes.get(rxn.id, 0)) > 1e-6:\n",
    "            print(f\"{rxn.id}: {rxn.reaction}  |  Flux: {fluxes[rxn.id]:.8f}\")\n",
    "\n",
    "\n",
    "# Examples\n",
    "#find_react(final_cons, 'TKT1')\n",
    "#find_met(final_cons, \"glu_L[c]\") \n",
    "react_subsystem(pro, 'Citric acid cycle')   # it seems that is active MDHm"
   ]
  },
  {
   "cell_type": "code",
   "execution_count": 18,
   "id": "e7603724-428a-45f4-81fe-58f1c587a6a8",
   "metadata": {},
   "outputs": [
    {
     "name": "stdout",
     "output_type": "stream",
     "text": [
      "PPAm: h2o[m] + ppi[m] --> h[m] + 2.0 pi[m]  |  Flux: 0.30421729\n",
      "ATPS4mi: adp[m] + 4.0 h[i] + pi[m] --> atp[m] + h2o[m] + 3.0 h[m]  |  Flux: 0.00039450\n",
      "CYOR_u10mi: 2.0 ficytC[m] + 2.0 h[m] + q10h2[m] --> 2.0 focytC[m] + 4.0 h[i] + q10[m]  |  Flux: 0.00077954\n",
      "CYOOm3i: 4.0 focytC[m] + 7.92 h[m] + o2[m] --> 4.0 ficytC[m] + 1.96 h2o[m] + 4.0 h[i] + 0.02 o2s[m]  |  Flux: 0.00038977\n"
     ]
    }
   ],
   "source": [
    "react_subsystem(pro, 'Oxidative phosphorylation')"
   ]
  },
  {
   "cell_type": "code",
   "execution_count": 20,
   "id": "9ec9dd69-331d-4e80-bf82-6df55155abfd",
   "metadata": {},
   "outputs": [],
   "source": [
    "def find_met(model, met_id):\n",
    "    sol = pfba(model)\n",
    "    fluxes = sol.fluxes.to_dict()\n",
    "    met = model.metabolites.get_by_id(met_id)\n",
    "    active_reactions = [\n",
    "        rxn for rxn in met.reactions\n",
    "        if abs(fluxes.get(rxn.id, 0.0)) > 1e-6\n",
    "    ]\n",
    "    for rxn in active_reactions:\n",
    "        print(f\"{rxn.id}: {rxn.reaction}  |  Flux: {fluxes[rxn.id]:.6f}\")"
   ]
  },
  {
   "cell_type": "code",
   "execution_count": 22,
   "id": "4d36011a-87c5-4789-9413-bb57e9211377",
   "metadata": {},
   "outputs": [
    {
     "name": "stdout",
     "output_type": "stream",
     "text": [
      "r1579: gln_L[e] + pro_L[c] <=> gln_L[c] + pro_L[e]  |  Flux: 0.611565\n",
      "EX_gln_L[e]: gln_L[e] <=>   |  Flux: -0.611565\n"
     ]
    }
   ],
   "source": [
    "find_met(pro, 'gln_L[e]')  #el glutamat enters a loop, is not being used for TCA (mix model) , 'glu_L[m]',  it seems than in normal neither."
   ]
  },
  {
   "cell_type": "code",
   "execution_count": 23,
   "id": "347a3211-8169-4d9c-943e-bd4ee4a2ea73",
   "metadata": {},
   "outputs": [
    {
     "name": "stdout",
     "output_type": "stream",
     "text": [
      "GLNtm: gln_L[c] --> gln_L[m]  |  Flux: 0.609605\n",
      "GLUPRT: gln_L[c] + h2o[c] + prpp[c] --> glu_L[c] + ppi[c] + pram[c]  |  Flux: 0.000294\n",
      "CBPS: 2.0 atp[c] + gln_L[c] + h2o[c] + hco3[c] --> 2.0 adp[c] + cbp[c] + glu_L[c] + 2.0 h[c] + pi[c]  |  Flux: 0.000303\n",
      "r1579: gln_L[e] + pro_L[c] <=> gln_L[c] + pro_L[e]  |  Flux: 0.611565\n",
      "PRFGS: atp[c] + fgam[c] + gln_L[c] + h2o[c] --> adp[c] + fpram[c] + glu_L[c] + h[c] + pi[c]  |  Flux: 0.000294\n",
      "biomass_maintenance: 0.50563 ala_L[c] + 0.35926 arg_L[c] + 0.27942 asn_L[c] + 0.35261 asp_L[c] + 20.7045 atp[c] + 0.020401 chsterol[c] + 0.011658 clpn_hs[c] + 0.039036 ctp[c] + 0.046571 cys_L[c] + 0.27519 g6p[c] + 0.326 gln_L[c] + 0.38587 glu_L[c] + 0.53889 gly[c] + 0.036117 gtp[c] + 20.6508 h2o[c] + 0.12641 his_L[c] + 0.28608 ile_L[c] + 0.54554 leu_L[c] + 0.59211 lys_L[c] + 0.15302 met_L[c] + 0.023315 pail_hs[c] + 0.15446 pchol_hs[c] + 0.055374 pe_hs[c] + 0.002914 pglyc_hs[c] + 0.25947 phe_L[c] + 0.41248 pro_L[c] + 0.005829 ps_hs[c] + 0.39253 ser_L[c] + 0.017486 sphmyln_hs[c] + 0.31269 thr_L[c] + 0.013306 trp_L[c] + 0.15967 tyr_L[c] + 0.053446 utp[c] + 0.35261 val_L[c] --> 20.6508 adp[c] + 20.6508 h[c] + 20.6508 pi[c]  |  Flux: 0.003276\n"
     ]
    }
   ],
   "source": [
    "find_met(pro, 'gln_L[c]')"
   ]
  },
  {
   "cell_type": "code",
   "execution_count": 24,
   "id": "9bf92892-8d2f-4e6e-a002-79e2810143c9",
   "metadata": {},
   "outputs": [
    {
     "name": "stdout",
     "output_type": "stream",
     "text": [
      "GLNtm: gln_L[c] --> gln_L[m]  |  Flux: 0.609605\n",
      "GLUNm: gln_L[m] + h2o[m] --> glu_L[m] + nh4[m]  |  Flux: 0.609605\n"
     ]
    }
   ],
   "source": [
    "find_met(pro, 'gln_L[m]') #goes glutamine into mitochondria and transforms into glutamate"
   ]
  },
  {
   "cell_type": "code",
   "execution_count": 25,
   "id": "85d9a80a-437e-47b0-ba0f-c0e12f590d1b",
   "metadata": {},
   "outputs": [
    {
     "name": "stdout",
     "output_type": "stream",
     "text": [
      "FPGS8m: 10fthf5glu[m] + atp[m] + glu_L[m] --> 10fthf6glu[m] + adp[m] + h[m] + pi[m]  |  Flux: 0.000522\n",
      "GLUDxm: glu_L[m] + h2o[m] + nad[m] <=> akg[m] + h[m] + nadh[m] + nh4[m]  |  Flux: -0.609605\n",
      "r0074: glu5sa[m] + h2o[m] + nad[m] <=> glu_L[m] + 2.0 h[m] + nadh[m]  |  Flux: -1.066095\n",
      "GLUNm: gln_L[m] + h2o[m] --> glu_L[m] + nh4[m]  |  Flux: 0.609605\n",
      "FPGS7m: 10fthf[m] + atp[m] + 4.0 glu_L[m] --> 10fthf5glu[m] + adp[m] + 3.0 h2o[m] + h[m] + pi[m]  |  Flux: 0.000522\n",
      "FPGS9m: 10fthf6glu[m] + atp[m] + glu_L[m] --> 10fthf7glu[m] + adp[m] + h[m] + pi[m]  |  Flux: 0.000522\n",
      "GLUt2m: glu_L[c] + h[c] <=> glu_L[m] + h[m]  |  Flux: -0.149985\n"
     ]
    }
   ],
   "source": [
    "find_met(pro, 'glu_L[m]') #transforms into glu5sa"
   ]
  },
  {
   "cell_type": "code",
   "execution_count": 27,
   "id": "200d7b6a-b988-4676-9228-9123bee9a411",
   "metadata": {},
   "outputs": [
    {
     "name": "stdout",
     "output_type": "stream",
     "text": [
      "G5SADs: glu5sa[c] --> 1pyr5c[c] + h2o[c] + h[c]  |  Flux: 1.066095\n",
      "GLU5SAtmc: glu5sa[m] <=> glu5sa[c]  |  Flux: 1.066095\n"
     ]
    }
   ],
   "source": [
    "find_met(pro, 'glu5sa[c]') #transport into glu5sa[c]"
   ]
  },
  {
   "cell_type": "code",
   "execution_count": 28,
   "id": "beaf3932-793f-483d-b25d-2fe68aabb129",
   "metadata": {},
   "outputs": [
    {
     "name": "stdout",
     "output_type": "stream",
     "text": [
      "G5SADs: glu5sa[c] --> 1pyr5c[c] + h2o[c] + h[c]  |  Flux: 1.066095\n",
      "P5CR: 1pyr5c[c] + 2.0 h[c] + nadph[c] --> nadp[c] + pro_L[c]  |  Flux: 1.066095\n"
     ]
    }
   ],
   "source": [
    "find_met(pro, '1pyr5c[c]') #transforms into pro_L[c]?"
   ]
  },
  {
   "cell_type": "code",
   "execution_count": 29,
   "id": "53205a5e-7e82-46b5-977b-196188cdb43d",
   "metadata": {},
   "outputs": [
    {
     "name": "stdout",
     "output_type": "stream",
     "text": [
      "r1612: pro_L[c] + trp_L[e] <=> pro_L[e] + trp_L[c]  |  Flux: 0.000044\n",
      "r1566: ala_L[e] + pro_L[c] <=> ala_L[c] + pro_L[e]  |  Flux: 0.001656\n",
      "r1648: asn_L[c] + pro_L[e] <=> asn_L[e] + pro_L[c]  |  Flux: -0.000915\n",
      "r1602: met_L[e] + pro_L[c] <=> met_L[c] + pro_L[e]  |  Flux: 0.150977\n",
      "r1579: gln_L[e] + pro_L[c] <=> gln_L[c] + pro_L[e]  |  Flux: 0.611565\n",
      "r1591: pro_L[c] + ser_L[e] <=> pro_L[e] + ser_L[c]  |  Flux: 0.293309\n",
      "P5CR: 1pyr5c[c] + 2.0 h[c] + nadph[c] --> nadp[c] + pro_L[c]  |  Flux: 1.066095\n",
      "r1649: pro_L[e] + val_L[c] <=> pro_L[c] + val_L[e]  |  Flux: -0.001155\n",
      "r1642: leu_L[e] + pro_L[c] <=> leu_L[c] + pro_L[e]  |  Flux: 0.001787\n",
      "r1621: phe_L[e] + pro_L[c] <=> phe_L[c] + pro_L[e]  |  Flux: 0.000850\n",
      "r1650: pro_L[e] + thr_L[c] <=> pro_L[c] + thr_L[e]  |  Flux: -0.001024\n",
      "r1629: pro_L[c] + tyr_L[e] <=> pro_L[e] + tyr_L[c]  |  Flux: 0.000523\n",
      "biomass_maintenance: 0.50563 ala_L[c] + 0.35926 arg_L[c] + 0.27942 asn_L[c] + 0.35261 asp_L[c] + 20.7045 atp[c] + 0.020401 chsterol[c] + 0.011658 clpn_hs[c] + 0.039036 ctp[c] + 0.046571 cys_L[c] + 0.27519 g6p[c] + 0.326 gln_L[c] + 0.38587 glu_L[c] + 0.53889 gly[c] + 0.036117 gtp[c] + 20.6508 h2o[c] + 0.12641 his_L[c] + 0.28608 ile_L[c] + 0.54554 leu_L[c] + 0.59211 lys_L[c] + 0.15302 met_L[c] + 0.023315 pail_hs[c] + 0.15446 pchol_hs[c] + 0.055374 pe_hs[c] + 0.002914 pglyc_hs[c] + 0.25947 phe_L[c] + 0.41248 pro_L[c] + 0.005829 ps_hs[c] + 0.39253 ser_L[c] + 0.017486 sphmyln_hs[c] + 0.31269 thr_L[c] + 0.013306 trp_L[c] + 0.15967 tyr_L[c] + 0.053446 utp[c] + 0.35261 val_L[c] --> 20.6508 adp[c] + 20.6508 h[c] + 20.6508 pi[c]  |  Flux: 0.003276\n",
      "r1907: ile_L[e] + na1[e] + pro_L[c] --> ile_L[c] + na1[c] + pro_L[e]  |  Flux: 0.000937\n"
     ]
    }
   ],
   "source": [
    "find_met(pro, 'pro_L[c]') #i guess it is co-transporter of aa into cell, basically an antiporter.   "
   ]
  }
 ],
 "metadata": {
  "kernelspec": {
   "display_name": "Python 3 (ipykernel)",
   "language": "python",
   "name": "python3"
  },
  "language_info": {
   "codemirror_mode": {
    "name": "ipython",
    "version": 3
   },
   "file_extension": ".py",
   "mimetype": "text/x-python",
   "name": "python",
   "nbconvert_exporter": "python",
   "pygments_lexer": "ipython3",
   "version": "3.10.12"
  }
 },
 "nbformat": 4,
 "nbformat_minor": 5
}
