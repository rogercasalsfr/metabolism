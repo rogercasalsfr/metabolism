{
 "cells": [
  {
   "cell_type": "code",
   "execution_count": 1,
   "id": "f50fc11e-b591-4f03-a9d3-7dcc88088153",
   "metadata": {},
   "outputs": [
    {
     "name": "stdout",
     "output_type": "stream",
     "text": [
      "Medium metabolites:\n",
      "gln_L[e]\n",
      "gthrd[e]\n",
      "o2[e]\n",
      "glc_D[e]\n",
      "pi[e]\n",
      "cl[e]\n",
      "na1[e]\n",
      "k[e]\n",
      "fe2[e]\n",
      "ca2[e]\n",
      "hco3[e]\n",
      "so4[e]\n",
      "thm[e]\n",
      "ribflv[e]\n",
      "pydx[e]\n",
      "ncam[e]\n",
      "inost[e]\n",
      "fol[e]\n",
      "pnto_R[e]\n",
      "chol[e]\n",
      "btn[e]\n",
      "ala_L[e]\n",
      "arg_L[e]\n",
      "asn_L[e]\n",
      "asp_L[e]\n",
      "Lcystin[e]\n",
      "glu_L[e]\n",
      "gly[e]\n",
      "his_L[e]\n",
      "ile_L[e]\n",
      "leu_L[e]\n",
      "lys_L[e]\n",
      "met_L[e]\n",
      "phe_L[e]\n",
      "cys_L[e]\n",
      "ser_L[e]\n",
      "thr_L[e]\n",
      "trp_L[e]\n",
      "tyr_L[e]\n",
      "val_L[e]\n",
      "pro_L[e]\n",
      "4hpro_LT[e]\n",
      "bz[e]\n",
      "pydxn[e]\n",
      "h[e]\n",
      "h2o[e]\n",
      "co2[e]\n",
      "HC00001[e]\n",
      "bilirub[e]\n",
      "urea[e]\n",
      "urate[e]\n",
      "5adtststerone[e]\n",
      "sel[e]\n",
      "5mta[e]\n"
     ]
    }
   ],
   "source": [
    "import h5py\n",
    "\n",
    "# Load the MATLAB v7.3 .mat file\n",
    "mat_path = '/mnt/c/Users/Roger/Downloads/medium_example.mat'\n",
    "\n",
    "medium_mets = []\n",
    "\n",
    "with h5py.File(mat_path, 'r') as f:\n",
    "    # Access the dataset\n",
    "    data = f['medium_example']\n",
    "\n",
    "    # Each entry is a reference to an HDF5 object that contains the string\n",
    "    for ref in data[0]:  # shape is (1, N)\n",
    "        string = ''.join(chr(c[0]) for c in f[ref])\n",
    "        medium_mets.append(string)\n",
    "\n",
    "# Print the extracted metabolite IDs\n",
    "print(\"Medium metabolites:\")\n",
    "for met in medium_mets:\n",
    "    print(met)\n"
   ]
  },
  {
   "cell_type": "code",
   "execution_count": null,
   "id": "48062eae-d4ae-46ff-9f56-019001977a06",
   "metadata": {},
   "outputs": [],
   "source": []
  }
 ],
 "metadata": {
  "kernelspec": {
   "display_name": "Python 3 (ipykernel)",
   "language": "python",
   "name": "python3"
  },
  "language_info": {
   "codemirror_mode": {
    "name": "ipython",
    "version": 3
   },
   "file_extension": ".py",
   "mimetype": "text/x-python",
   "name": "python",
   "nbconvert_exporter": "python",
   "pygments_lexer": "ipython3",
   "version": "3.10.12"
  }
 },
 "nbformat": 4,
 "nbformat_minor": 5
}
